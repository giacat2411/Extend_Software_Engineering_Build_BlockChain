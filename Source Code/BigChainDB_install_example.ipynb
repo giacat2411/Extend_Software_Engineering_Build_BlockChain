{
  "nbformat": 4,
  "nbformat_minor": 0,
  "metadata": {
    "colab": {
      "name": "BigchainDB example.ipynb",
      "provenance": [],
      "collapsed_sections": [],
      "toc_visible": true
    },
    "kernelspec": {
      "name": "python3",
      "display_name": "Python 3"
    },
    "language_info": {
      "name": "python"
    }
  },
  "cells": [
    {
      "cell_type": "markdown",
      "metadata": {
        "id": "pDMcq5RUjKsx"
      },
      "source": [
        "## Cài đặt BigchainDB"
      ]
    },
    {
      "cell_type": "code",
      "metadata": {
        "colab": {
          "base_uri": "https://localhost:8080/"
        },
        "id": "OQHRNVxUjAFk",
        "outputId": "18b6ec97-f1c7-4a88-9796-75cdd24f86e5"
      },
      "source": [
        "!pip3 install --upgrade setuptools\n",
        "!sudo apt-get update\n",
        "!sudo apt-get install python3-dev libssl-dev libffi-dev\n",
        "!pip3 install bigchaindb_driver"
      ],
      "execution_count": null,
      "outputs": [
        {
          "output_type": "stream",
          "name": "stdout",
          "text": [
            "Requirement already satisfied: setuptools in /usr/local/lib/python3.7/dist-packages (58.3.0)\n",
            "Hit:1 https://cloud.r-project.org/bin/linux/ubuntu bionic-cran40/ InRelease\n",
            "Ign:2 https://developer.download.nvidia.com/compute/cuda/repos/ubuntu1804/x86_64  InRelease\n",
            "Hit:3 http://security.ubuntu.com/ubuntu bionic-security InRelease\n",
            "Ign:4 https://developer.download.nvidia.com/compute/machine-learning/repos/ubuntu1804/x86_64  InRelease\n",
            "Hit:5 https://developer.download.nvidia.com/compute/cuda/repos/ubuntu1804/x86_64  Release\n",
            "Hit:6 https://developer.download.nvidia.com/compute/machine-learning/repos/ubuntu1804/x86_64  Release\n",
            "Hit:7 http://archive.ubuntu.com/ubuntu bionic InRelease\n",
            "Hit:8 http://ppa.launchpad.net/c2d4u.team/c2d4u4.0+/ubuntu bionic InRelease\n",
            "Hit:10 http://archive.ubuntu.com/ubuntu bionic-updates InRelease\n",
            "Hit:12 http://archive.ubuntu.com/ubuntu bionic-backports InRelease\n",
            "Hit:13 http://ppa.launchpad.net/cran/libgit2/ubuntu bionic InRelease\n",
            "Hit:14 http://ppa.launchpad.net/deadsnakes/ppa/ubuntu bionic InRelease\n",
            "Hit:15 http://ppa.launchpad.net/graphics-drivers/ppa/ubuntu bionic InRelease\n",
            "Reading package lists... Done\n",
            "Reading package lists... Done\n",
            "Building dependency tree       \n",
            "Reading state information... Done\n",
            "libffi-dev is already the newest version (3.2.1-8).\n",
            "libssl-dev is already the newest version (1.1.1-1ubuntu2.1~18.04.13).\n",
            "python3-dev is already the newest version (3.6.7-1~18.04).\n",
            "0 upgraded, 0 newly installed, 0 to remove and 72 not upgraded.\n",
            "Requirement already satisfied: bigchaindb_driver in /usr/local/lib/python3.7/dist-packages (0.6.2)\n",
            "Requirement already satisfied: cryptoconditions==0.8.0 in /usr/local/lib/python3.7/dist-packages (from bigchaindb_driver) (0.8.0)\n",
            "Requirement already satisfied: python-rapidjson-schema==0.1.1 in /usr/local/lib/python3.7/dist-packages (from bigchaindb_driver) (0.1.1)\n",
            "Requirement already satisfied: requests>=2.20.0 in /usr/local/lib/python3.7/dist-packages (from bigchaindb_driver) (2.23.0)\n",
            "Requirement already satisfied: python-rapidjson~=0.6.0 in /usr/local/lib/python3.7/dist-packages (from bigchaindb_driver) (0.6.3)\n",
            "Requirement already satisfied: pysha3~=1.0.2 in /usr/local/lib/python3.7/dist-packages (from bigchaindb_driver) (1.0.2)\n",
            "Requirement already satisfied: PyNaCl~=1.1.0 in /usr/local/lib/python3.7/dist-packages (from cryptoconditions==0.8.0->bigchaindb_driver) (1.1.2)\n",
            "Requirement already satisfied: base58~=1.0.0 in /usr/local/lib/python3.7/dist-packages (from cryptoconditions==0.8.0->bigchaindb_driver) (1.0.3)\n",
            "Requirement already satisfied: cryptography~=2.3.1 in /usr/local/lib/python3.7/dist-packages (from cryptoconditions==0.8.0->bigchaindb_driver) (2.3.1)\n",
            "Requirement already satisfied: pyasn1~=0.4 in /usr/local/lib/python3.7/dist-packages (from cryptoconditions==0.8.0->bigchaindb_driver) (0.4.8)\n",
            "Requirement already satisfied: idna>=2.1 in /usr/local/lib/python3.7/dist-packages (from cryptography~=2.3.1->cryptoconditions==0.8.0->bigchaindb_driver) (2.10)\n",
            "Requirement already satisfied: cffi!=1.11.3,>=1.7 in /usr/local/lib/python3.7/dist-packages (from cryptography~=2.3.1->cryptoconditions==0.8.0->bigchaindb_driver) (1.14.6)\n",
            "Requirement already satisfied: asn1crypto>=0.21.0 in /usr/local/lib/python3.7/dist-packages (from cryptography~=2.3.1->cryptoconditions==0.8.0->bigchaindb_driver) (1.4.0)\n",
            "Requirement already satisfied: six>=1.4.1 in /usr/local/lib/python3.7/dist-packages (from cryptography~=2.3.1->cryptoconditions==0.8.0->bigchaindb_driver) (1.15.0)\n",
            "Requirement already satisfied: pycparser in /usr/local/lib/python3.7/dist-packages (from cffi!=1.11.3,>=1.7->cryptography~=2.3.1->cryptoconditions==0.8.0->bigchaindb_driver) (2.20)\n",
            "Requirement already satisfied: urllib3!=1.25.0,!=1.25.1,<1.26,>=1.21.1 in /usr/local/lib/python3.7/dist-packages (from requests>=2.20.0->bigchaindb_driver) (1.24.3)\n",
            "Requirement already satisfied: chardet<4,>=3.0.2 in /usr/local/lib/python3.7/dist-packages (from requests>=2.20.0->bigchaindb_driver) (3.0.4)\n",
            "Requirement already satisfied: certifi>=2017.4.17 in /usr/local/lib/python3.7/dist-packages (from requests>=2.20.0->bigchaindb_driver) (2021.5.30)\n"
          ]
        }
      ]
    },
    {
      "cell_type": "markdown",
      "metadata": {
        "id": "JS4P7QbPkJN6"
      },
      "source": [
        "## Lưu object bằng transaction\n",
        "### Kết nối đến BigchainDB\n",
        "\n"
      ]
    },
    {
      "cell_type": "code",
      "metadata": {
        "colab": {
          "base_uri": "https://localhost:8080/"
        },
        "id": "-YbwW4xZkTHy",
        "outputId": "9f9c8f93-bf33-44e6-c72e-bbfe571b9329"
      },
      "source": [
        "from bigchaindb_driver import BigchainDB\n",
        "from bigchaindb_driver.common.utils import serialize\n",
        "from bigchaindb_driver.crypto import generate_keypair\n",
        "import json\n",
        " \n",
        "bdb_root_url = 'https://test.ipdb.io'\n",
        " \n",
        "bdb = BigchainDB(bdb_root_url)\n",
        " \n",
        "test_data = {\n",
        "    'data': {\n",
        "        'Area' : 50,\n",
        "        'AreaHome' : 200,\n",
        "        'Bedrooms' : 6,\n",
        "        'Bathrooms' : 6,\n",
        "        'id' : 'H1234',\n",
        "        'Owner' : 111000222,\n",
        "        'Price' : 10000000000\n",
        "    }\n",
        "}\n",
        " \n",
        "user = generate_keypair()\n",
        "\n",
        "print(user)"
      ],
      "execution_count": null,
      "outputs": [
        {
          "output_type": "stream",
          "name": "stdout",
          "text": [
            "CryptoKeypair(private_key='BJqobmkkLmXsevn5adQ8EXRLZr8idp3m4uoa3bj6rsHn', public_key='CRgwQLoiRmiRrxYWjX4hutFE9PKvB9mEyNvBuMEeTuCc')\n"
          ]
        }
      ]
    },
    {
      "cell_type": "markdown",
      "metadata": {
        "id": "79NUiZpMkzOO"
      },
      "source": [
        "### Tạo transaction"
      ]
    },
    {
      "cell_type": "code",
      "metadata": {
        "colab": {
          "base_uri": "https://localhost:8080/"
        },
        "id": "DqY7Z9jPk5NJ",
        "outputId": "51950d1a-0752-48fd-e46a-51da236deec7"
      },
      "source": [
        "# Prepare new transaction\n",
        "prepare_creation = bdb.transactions.prepare(\n",
        "    operation='CREATE',\n",
        "    signers=user.public_key,\n",
        "    asset=test_data,\n",
        ")\n",
        " \n",
        "print('PREPARE:')\n",
        "print(json.dumps(prepare_creation, indent=4))\n",
        "print()"
      ],
      "execution_count": null,
      "outputs": [
        {
          "output_type": "stream",
          "name": "stdout",
          "text": [
            "PREPARE:\n",
            "{\n",
            "    \"inputs\": [\n",
            "        {\n",
            "            \"owners_before\": [\n",
            "                \"CRgwQLoiRmiRrxYWjX4hutFE9PKvB9mEyNvBuMEeTuCc\"\n",
            "            ],\n",
            "            \"fulfills\": null,\n",
            "            \"fulfillment\": {\n",
            "                \"type\": \"ed25519-sha-256\",\n",
            "                \"public_key\": \"CRgwQLoiRmiRrxYWjX4hutFE9PKvB9mEyNvBuMEeTuCc\"\n",
            "            }\n",
            "        }\n",
            "    ],\n",
            "    \"outputs\": [\n",
            "        {\n",
            "            \"public_keys\": [\n",
            "                \"CRgwQLoiRmiRrxYWjX4hutFE9PKvB9mEyNvBuMEeTuCc\"\n",
            "            ],\n",
            "            \"condition\": {\n",
            "                \"details\": {\n",
            "                    \"type\": \"ed25519-sha-256\",\n",
            "                    \"public_key\": \"CRgwQLoiRmiRrxYWjX4hutFE9PKvB9mEyNvBuMEeTuCc\"\n",
            "                },\n",
            "                \"uri\": \"ni:///sha-256;REW6TRgGVsyF4OHUBWNHRwzIPUaSANOApa_IZjLFNWQ?fpt=ed25519-sha-256&cost=131072\"\n",
            "            },\n",
            "            \"amount\": \"1\"\n",
            "        }\n",
            "    ],\n",
            "    \"operation\": \"CREATE\",\n",
            "    \"metadata\": null,\n",
            "    \"asset\": {\n",
            "        \"data\": {\n",
            "            \"Area\": 50,\n",
            "            \"AreaHome\": 200,\n",
            "            \"Bedrooms\": 6,\n",
            "            \"Bathrooms\": 6,\n",
            "            \"id\": \"H1234\",\n",
            "            \"Owner\": 111000222,\n",
            "            \"Price\": 10000000000\n",
            "        }\n",
            "    },\n",
            "    \"version\": \"2.0\",\n",
            "    \"id\": null\n",
            "}\n",
            "\n"
          ]
        }
      ]
    },
    {
      "cell_type": "markdown",
      "metadata": {
        "id": "wcwn1hNPk_wf"
      },
      "source": [
        "### Ký và gửi transaction"
      ]
    },
    {
      "cell_type": "code",
      "metadata": {
        "colab": {
          "base_uri": "https://localhost:8080/"
        },
        "id": "0UZIEi8glEm9",
        "outputId": "dd1cb96a-c401-4ca8-a5c0-5f79b514984a"
      },
      "source": [
        "# Sign the transaction\n",
        "fulfilled_creation = bdb.transactions.fulfill(\n",
        "    prepare_creation, user.private_key\n",
        ")\n",
        " \n",
        "print('FULFILL:')\n",
        "print(json.dumps(fulfilled_creation, indent=4))\n",
        "print()\n",
        " \n",
        "# Send the transaction to BigchainDB\n",
        "sent_creation = bdb.transactions.send_commit(fulfilled_creation)\n",
        "print('sent_creation == fulfilled_creation: ', sent_creation == fulfilled_creation)\n",
        "print()"
      ],
      "execution_count": null,
      "outputs": [
        {
          "output_type": "stream",
          "name": "stdout",
          "text": [
            "FULFILL:\n",
            "{\n",
            "    \"inputs\": [\n",
            "        {\n",
            "            \"owners_before\": [\n",
            "                \"CRgwQLoiRmiRrxYWjX4hutFE9PKvB9mEyNvBuMEeTuCc\"\n",
            "            ],\n",
            "            \"fulfills\": null,\n",
            "            \"fulfillment\": \"pGSAIKnDp1N_RTAkEoALtZuC6b0bYzUZ-mH1dePpFbatCIFxgUC5IfD8jBfnAy7LguHHoMzf7EtDlM8pozW1xenTqZCdhSqbxCXKv3G1X_sUqqc3XC1V8OW_z9NPdLmylz_1xPQB\"\n",
            "        }\n",
            "    ],\n",
            "    \"outputs\": [\n",
            "        {\n",
            "            \"public_keys\": [\n",
            "                \"CRgwQLoiRmiRrxYWjX4hutFE9PKvB9mEyNvBuMEeTuCc\"\n",
            "            ],\n",
            "            \"condition\": {\n",
            "                \"details\": {\n",
            "                    \"type\": \"ed25519-sha-256\",\n",
            "                    \"public_key\": \"CRgwQLoiRmiRrxYWjX4hutFE9PKvB9mEyNvBuMEeTuCc\"\n",
            "                },\n",
            "                \"uri\": \"ni:///sha-256;REW6TRgGVsyF4OHUBWNHRwzIPUaSANOApa_IZjLFNWQ?fpt=ed25519-sha-256&cost=131072\"\n",
            "            },\n",
            "            \"amount\": \"1\"\n",
            "        }\n",
            "    ],\n",
            "    \"operation\": \"CREATE\",\n",
            "    \"metadata\": null,\n",
            "    \"asset\": {\n",
            "        \"data\": {\n",
            "            \"Area\": 50,\n",
            "            \"AreaHome\": 200,\n",
            "            \"Bedrooms\": 6,\n",
            "            \"Bathrooms\": 6,\n",
            "            \"id\": \"H1234\",\n",
            "            \"Owner\": 111000222,\n",
            "            \"Price\": 10000000000\n",
            "        }\n",
            "    },\n",
            "    \"version\": \"2.0\",\n",
            "    \"id\": \"7887980c61be812f6692c4a0d55d06262c428979334337cc79a5339bd4293612\"\n",
            "}\n",
            "\n",
            "sent_creation == fulfilled_creation:  True\n",
            "\n"
          ]
        }
      ]
    },
    {
      "cell_type": "markdown",
      "metadata": {
        "id": "rhpcK6kdlROL"
      },
      "source": [
        "## Thay đổi object\n",
        "### Tìm kiếm object"
      ]
    },
    {
      "cell_type": "code",
      "metadata": {
        "colab": {
          "base_uri": "https://localhost:8080/"
        },
        "id": "lsnxELu1l9k1",
        "outputId": "36d12829-c58c-46b9-82be-2ac926efb3b0"
      },
      "source": [
        "# Print transaction id\n",
        "trans_id = fulfilled_creation['id']\n",
        "print('trans_id: ', trans_id)\n",
        "print()\n",
        " \n",
        "# Search assets by id\n",
        "asset_searched = bdb.assets.get(search='H1234')\n",
        "print('ASSETS SEARCHED:')\n",
        "print(json.dumps(asset_searched, indent=4))\n",
        "print()"
      ],
      "execution_count": null,
      "outputs": [
        {
          "output_type": "stream",
          "name": "stdout",
          "text": [
            "trans_id:  7887980c61be812f6692c4a0d55d06262c428979334337cc79a5339bd4293612\n",
            "\n",
            "ASSETS SEARCHED:\n",
            "[\n",
            "    {\n",
            "        \"data\": {\n",
            "            \"Area\": 50,\n",
            "            \"AreaHome\": 200,\n",
            "            \"Bedrooms\": 6,\n",
            "            \"Bathrooms\": 6,\n",
            "            \"id\": \"H1234\",\n",
            "            \"Owner\": 111000222,\n",
            "            \"Price\": 10000000000\n",
            "        },\n",
            "        \"id\": \"7887980c61be812f6692c4a0d55d06262c428979334337cc79a5339bd4293612\"\n",
            "    }\n",
            "]\n",
            "\n"
          ]
        }
      ]
    },
    {
      "cell_type": "code",
      "metadata": {
        "id": "Ss1XJh71mXcy"
      },
      "source": [
        "asset_searched = asset_searched[-1]\n",
        "asset_id = asset_searched['id']"
      ],
      "execution_count": null,
      "outputs": []
    },
    {
      "cell_type": "markdown",
      "metadata": {
        "id": "kJw36L3nmZVu"
      },
      "source": [
        ""
      ]
    },
    {
      "cell_type": "code",
      "metadata": {
        "id": "7gtLn2a9mn2Q"
      },
      "source": [
        "transfer_asset = {\n",
        "    'id' : asset_id\n",
        "}\n",
        " \n",
        "data_changed = {\n",
        "    'data' : {\n",
        "        'Owner' : 111222333\n",
        "    }\n",
        "}\n",
        " \n",
        "output_index = 0\n",
        "#  last_transaction \n",
        "# output = fulfilled_creation['outputs'][output_index]\n",
        "output = last_transaction\n",
        "\n",
        "transfer_input = {\n",
        "    'fulfillment': output['condition']['details'],\n",
        "    'fulfills': {\n",
        "    'output_index': output_index,\n",
        "    'transaction_id': fulfilled_creation['id'],\n",
        "    },\n",
        "    'owners_before': output['public_keys'],\n",
        "}\n",
        " \n",
        "prepare_creation = bdb.transactions.prepare(\n",
        "    operation='TRANSFER',\n",
        "    asset = transfer_asset,\n",
        "    inputs = transfer_input,\n",
        "    metadata= data_changed,\n",
        "    recipients=user.public_key\n",
        ")\n",
        " \n",
        "fulfilled_creation = bdb.transactions.fulfill(\n",
        "    prepare_creation,\n",
        "    private_keys=user.private_key\n",
        ")\n",
        " \n",
        "sent_creation = bdb.transactions.send_commit(fulfilled_creation)"
      ],
      "execution_count": null,
      "outputs": []
    },
    {
      "cell_type": "markdown",
      "metadata": {
        "id": "LLAZHCuXnFXl"
      },
      "source": [
        "### Danh sách các transaction liên quan đến object"
      ]
    },
    {
      "cell_type": "code",
      "metadata": {
        "colab": {
          "base_uri": "https://localhost:8080/"
        },
        "id": "mBW27YwBnJBZ",
        "outputId": "7eac30af-b170-46ca-cf8f-efb1216c0d88"
      },
      "source": [
        "# List of transactions by id\n",
        "transactions = bdb.transactions.get(asset_id=asset_id)\n",
        "print('TRANSACTIONS:')\n",
        "print(json.dumps(transactions, indent=4))"
      ],
      "execution_count": null,
      "outputs": [
        {
          "output_type": "stream",
          "name": "stdout",
          "text": [
            "TRANSACTIONS:\n",
            "[\n",
            "    {\n",
            "        \"inputs\": [\n",
            "            {\n",
            "                \"owners_before\": [\n",
            "                    \"CRgwQLoiRmiRrxYWjX4hutFE9PKvB9mEyNvBuMEeTuCc\"\n",
            "                ],\n",
            "                \"fulfills\": null,\n",
            "                \"fulfillment\": \"pGSAIKnDp1N_RTAkEoALtZuC6b0bYzUZ-mH1dePpFbatCIFxgUC5IfD8jBfnAy7LguHHoMzf7EtDlM8pozW1xenTqZCdhSqbxCXKv3G1X_sUqqc3XC1V8OW_z9NPdLmylz_1xPQB\"\n",
            "            }\n",
            "        ],\n",
            "        \"outputs\": [\n",
            "            {\n",
            "                \"public_keys\": [\n",
            "                    \"CRgwQLoiRmiRrxYWjX4hutFE9PKvB9mEyNvBuMEeTuCc\"\n",
            "                ],\n",
            "                \"condition\": {\n",
            "                    \"details\": {\n",
            "                        \"type\": \"ed25519-sha-256\",\n",
            "                        \"public_key\": \"CRgwQLoiRmiRrxYWjX4hutFE9PKvB9mEyNvBuMEeTuCc\"\n",
            "                    },\n",
            "                    \"uri\": \"ni:///sha-256;REW6TRgGVsyF4OHUBWNHRwzIPUaSANOApa_IZjLFNWQ?fpt=ed25519-sha-256&cost=131072\"\n",
            "                },\n",
            "                \"amount\": \"1\"\n",
            "            }\n",
            "        ],\n",
            "        \"operation\": \"CREATE\",\n",
            "        \"metadata\": null,\n",
            "        \"asset\": {\n",
            "            \"data\": {\n",
            "                \"Area\": 50,\n",
            "                \"AreaHome\": 200,\n",
            "                \"Bedrooms\": 6,\n",
            "                \"Bathrooms\": 6,\n",
            "                \"id\": \"H1234\",\n",
            "                \"Owner\": 111000222,\n",
            "                \"Price\": 10000000000\n",
            "            }\n",
            "        },\n",
            "        \"version\": \"2.0\",\n",
            "        \"id\": \"7887980c61be812f6692c4a0d55d06262c428979334337cc79a5339bd4293612\"\n",
            "    },\n",
            "    {\n",
            "        \"inputs\": [\n",
            "            {\n",
            "                \"owners_before\": [\n",
            "                    \"CRgwQLoiRmiRrxYWjX4hutFE9PKvB9mEyNvBuMEeTuCc\"\n",
            "                ],\n",
            "                \"fulfills\": {\n",
            "                    \"transaction_id\": \"7887980c61be812f6692c4a0d55d06262c428979334337cc79a5339bd4293612\",\n",
            "                    \"output_index\": 0\n",
            "                },\n",
            "                \"fulfillment\": \"pGSAIKnDp1N_RTAkEoALtZuC6b0bYzUZ-mH1dePpFbatCIFxgUDQ3T3wAaR34HkH_g_4SkxgIzM9a34KeaD0DzbDO4UpeNVMHiK7R_y_jTFar6yjM8J0dnqyhn3mZr-dmZHphBEH\"\n",
            "            }\n",
            "        ],\n",
            "        \"outputs\": [\n",
            "            {\n",
            "                \"public_keys\": [\n",
            "                    \"CRgwQLoiRmiRrxYWjX4hutFE9PKvB9mEyNvBuMEeTuCc\"\n",
            "                ],\n",
            "                \"condition\": {\n",
            "                    \"details\": {\n",
            "                        \"type\": \"ed25519-sha-256\",\n",
            "                        \"public_key\": \"CRgwQLoiRmiRrxYWjX4hutFE9PKvB9mEyNvBuMEeTuCc\"\n",
            "                    },\n",
            "                    \"uri\": \"ni:///sha-256;REW6TRgGVsyF4OHUBWNHRwzIPUaSANOApa_IZjLFNWQ?fpt=ed25519-sha-256&cost=131072\"\n",
            "                },\n",
            "                \"amount\": \"1\"\n",
            "            }\n",
            "        ],\n",
            "        \"operation\": \"TRANSFER\",\n",
            "        \"metadata\": {\n",
            "            \"data\": {\n",
            "                \"Owner\": 111222333\n",
            "            }\n",
            "        },\n",
            "        \"asset\": {\n",
            "            \"id\": \"7887980c61be812f6692c4a0d55d06262c428979334337cc79a5339bd4293612\"\n",
            "        },\n",
            "        \"version\": \"2.0\",\n",
            "        \"id\": \"14c0f7a72c8074bbf3b951da61a3b033e24b03967bf2bac6690e39cc406f3ec0\"\n",
            "    }\n",
            "]\n"
          ]
        }
      ]
    },
    {
      "cell_type": "markdown",
      "metadata": {
        "id": "ptDH1b-Hl-aB"
      },
      "source": [
        "#"
      ]
    }
  ]
}